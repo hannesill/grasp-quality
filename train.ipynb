{
 "cells": [
  {
   "cell_type": "markdown",
   "metadata": {},
   "source": [
    "## 1) Data Analysis"
   ]
  },
  {
   "cell_type": "code",
   "execution_count": 12,
   "metadata": {},
   "outputs": [
    {
     "name": "stdout",
     "output_type": "stream",
     "text": [
      "Sample contains the following keys:\n",
      "- sdf\n",
      "- grasps\n",
      "- scores\n",
      "\n",
      "Shapes:\n",
      "sdf: torch.Size([48, 48, 48])\n",
      "grasps: torch.Size([480, 7])\n",
      "scores: torch.Size([480])\n",
      "\n",
      "Basic statistics:\n",
      "sdf:\n",
      "  Min: -0.7169\n",
      "  Max: 1.4683\n",
      "  Mean: 0.6416\n",
      "  Std: 0.2782\n",
      "\n",
      "grasps:\n",
      "  Min: -0.5236\n",
      "  Max: 1.8326\n",
      "  Mean: 0.1521\n",
      "  Std: 0.4945\n",
      "\n",
      "scores:\n",
      "  Min: -1.5000\n",
      "  Max: 8.6819\n",
      "  Mean: 1.6106\n",
      "  Std: 2.8319\n",
      "\n"
     ]
    }
   ],
   "source": [
    "import torch\n",
    "from pathlib import Path\n",
    "from dataset import GraspDataset\n",
    "\n",
    "# Create dataset\n",
    "data_path = Path('data/processed')\n",
    "dataset = GraspDataset(data_path)\n",
    "\n",
    "# Get a single sample\n",
    "sample = dataset[0]\n",
    "\n",
    "# Print available keys\n",
    "print(\"Sample contains the following keys:\")\n",
    "for key in sample.keys():\n",
    "    print(f\"- {key}\")\n",
    "\n",
    "# Print tensor shapes and data types\n",
    "print(\"\\nShapes:\")\n",
    "for key, tensor in sample.items():\n",
    "    print(f\"{key}: {tensor.shape}\")\n",
    "\n",
    "# Basic statistics for numerical tensors\n",
    "print(\"\\nBasic statistics:\")\n",
    "for key, tensor in sample.items():\n",
    "    if torch.is_floating_point(tensor):\n",
    "        print(f\"{key}:\")\n",
    "        print(f\"  Min: {tensor.min().item():.4f}\")\n",
    "        print(f\"  Max: {tensor.max().item():.4f}\")\n",
    "        print(f\"  Mean: {tensor.mean().item():.4f}\")\n",
    "        print(f\"  Std: {tensor.std().item():.4f}\")\n",
    "        print()\n"
   ]
  },
  {
   "cell_type": "markdown",
   "metadata": {},
   "source": [
    "## 2) Overfitting on 1 sample"
   ]
  },
  {
   "cell_type": "code",
   "execution_count": 13,
   "metadata": {},
   "outputs": [],
   "source": [
    "from pathlib import Path\n",
    "from dataset import GraspDataset\n",
    "from model import GQEstimator\n",
    "import matplotlib.pyplot as plt\n",
    "from tqdm import tqdm\n",
    "import math"
   ]
  },
  {
   "cell_type": "markdown",
   "metadata": {},
   "source": [
    "### 2.1) Initialize the model"
   ]
  },
  {
   "cell_type": "code",
   "execution_count": 14,
   "metadata": {},
   "outputs": [
    {
     "name": "stdout",
     "output_type": "stream",
     "text": [
      "Using device: cpu\n",
      "Initializing GQEstimator\n",
      "Input size: 48\n",
      "Flattened size: 3456\n",
      "Number of parameters: 1218977\n"
     ]
    }
   ],
   "source": [
    "# Initialize model and move to GPU if available\n",
    "device = torch.device('cuda' if torch.cuda.is_available() else 'cpu')\n",
    "print(f\"Using device: {device}\")\n",
    "\n",
    "model = GQEstimator(\n",
    "    input_size=48,\n",
    "    base_channels=16,\n",
    "    fc_dims=[256, 128, 64]\n",
    ").to(device)"
   ]
  },
  {
   "cell_type": "markdown",
   "metadata": {},
   "source": [
    "### 2.2) Get a small number of samples"
   ]
  },
  {
   "cell_type": "code",
   "execution_count": 15,
   "metadata": {},
   "outputs": [
    {
     "name": "stdout",
     "output_type": "stream",
     "text": [
      "Sample 0:\n",
      "\tgrasps:  [-0.1362624615430832, -0.14802123606204987, 0.8109341263771057, -0.13547779619693756, -0.2425919622182846, -0.03906584903597832, 0.1332123726606369]\n",
      "\tscore:  7.935917854309082\n",
      "torch.Size([7])\n",
      "torch.Size([])\n",
      "torch.Size([48, 48, 48])\n"
     ]
    }
   ],
   "source": [
    "# Create dataset\n",
    "data_path = Path('data/processed')\n",
    "\n",
    "dataset = GraspDataset(data_path)\n",
    "\n",
    "scene = dataset[0]\n",
    "\n",
    "def get_samples(scene, num_samples):\n",
    "    # Get num_samples many unique indices\n",
    "    indices = torch.randperm(len(scene['grasps']))[:num_samples]\n",
    "    samples = []\n",
    "    for i in indices:\n",
    "        sample = {\n",
    "            'grasps': scene['grasps'][i].float().to(device),\n",
    "            'scores': scene['scores'][i].float().to(device),\n",
    "            'sdf': scene['sdf'].float().to(device)\n",
    "        }\n",
    "        samples.append(sample)\n",
    "    return samples\n",
    "\n",
    "samples = get_samples(scene, 1)\n",
    "\n",
    "for i, sample in enumerate(samples[:3]):\n",
    "    print(f\"Sample {i}:\")\n",
    "    print(\"\\tgrasps: \", sample['grasps'].tolist())\n",
    "    print(\"\\tscore: \", sample['scores'].item())\n",
    "\n",
    "\n",
    "print(samples[0]['grasps'].shape)\n",
    "print(samples[0]['scores'].shape)\n",
    "print(samples[0]['sdf'].shape)\n",
    "\n"
   ]
  },
  {
   "cell_type": "markdown",
   "metadata": {},
   "source": [
    "### 2.3) Overfit on these samples from that one scene"
   ]
  },
  {
   "cell_type": "code",
   "execution_count": 16,
   "metadata": {},
   "outputs": [
    {
     "name": "stdout",
     "output_type": "stream",
     "text": [
      "[61.31660461425781, 61.21823501586914, 61.12983703613281, 61.046546936035156, 60.97214889526367, 60.89933395385742, 60.808773040771484, 60.68621826171875, 60.55746841430664, 60.402164459228516, 60.22419738769531, 60.001708984375, 59.69839096069336, 59.31230163574219, 58.82781982421875, 58.3118782043457, 57.68958282470703, 56.889556884765625, 55.87755584716797, 54.602195739746094, 53.021732330322266, 51.06917953491211, 48.66050338745117, 45.780521392822266, 42.334693908691406, 38.26511764526367, 33.53634262084961, 28.15090560913086, 22.216075897216797, 15.908470153808594, 9.663140296936035, 4.179488182067871, 0.6046392321586609, 0.433000385761261, 4.225284099578857, 8.645532608032227, 9.92825984954834, 8.119023323059082, 5.01828670501709, 2.220625162124634, 0.5215513706207275, 0.0002885529538616538, 0.33443695306777954, 1.094122052192688, 1.9174754619598389, 2.5688040256500244, 2.9296326637268066, 2.966153144836426, 2.7060515880584717, 2.2180747985839844, 1.6000316143035889, 0.9659530520439148, 0.4314868152141571, 0.09312236309051514, 0.002427876926958561, 0.14354537427425385, 0.4281455874443054, 0.7218279838562012, 0.8983405232429504, 0.8933651447296143, 0.7252009510993958, 0.47243860363960266, 0.22872628271579742, 0.06281749904155731, 0.0007706721662543714, 0.029594311490654945, 0.11283061653375626, 0.2080654799938202, 0.2801986038684845, 0.30858027935028076, 0.2887795567512512, 0.23038354516029358, 0.15229856967926025, 0.0766497403383255, 0.022468281909823418, 0.0004172521294094622, 0.010053936392068863, 0.040704138576984406, 0.07595928013324738, 0.10019560903310776, 0.10435423254966736, 0.0884929969906807, 0.06027146428823471, 0.03062940575182438, 0.009013458155095577, 0.0001979256048798561, 0.0035834184382110834, 0.014580320566892624, 0.027034135535359383, 0.03560236841440201, 0.0373421311378479, 0.03221241384744644, 0.022566452622413635, 0.0119745759293437, 0.0038224237505346537, 0.0001559592637931928, 0.0011308094253763556, 0.005207031965255737, 0.009958349168300629, 0.013125552795827389]\n"
     ]
    },
    {
     "data": {
      "image/png": "[encoded data removed]",
      "text/plain": [
       "<Figure size 640x480 with 1 Axes>"
      ]
     },
     "metadata": {},
     "output_type": "display_data"
    }
   ],
   "source": [
    "EPOCHS = 100\n",
    "\n",
    "losses = []\n",
    "optimizer = torch.optim.Adam(model.parameters(), lr=0.0001)\n",
    "criterion = torch.nn.MSELoss()\n",
    "\n",
    "for epoch in range(EPOCHS):\n",
    "    epoch_loss = 0.0\n",
    "    for sample in samples:\n",
    "        optimizer.zero_grad()\n",
    "        pred_quality = model(sample['sdf'], sample['grasps'])\n",
    "        loss = criterion(pred_quality, sample['scores'])\n",
    "        loss.backward()\n",
    "        optimizer.step()\n",
    "        epoch_loss += loss.item()\n",
    "\n",
    "    epoch_loss /= len(samples)\n",
    "    losses.append(epoch_loss)\n",
    "\n",
    "print(losses)\n",
    "\n",
    "plt.plot(losses)\n",
    "plt.xlabel('Epoch')\n",
    "plt.ylabel('Loss')\n",
    "plt.title('Training Loss Curve')\n",
    "plt.show()\n"
   ]
  },
  {
   "cell_type": "markdown",
   "metadata": {},
   "source": [
    "## 3) Full Training"
   ]
  },
  {
   "cell_type": "markdown",
   "metadata": {},
   "source": [
    "### 3.1) Initialize a new model"
   ]
  },
  {
   "cell_type": "code",
   "execution_count": 17,
   "metadata": {},
   "outputs": [
    {
     "name": "stdout",
     "output_type": "stream",
     "text": [
      "Using device: cpu\n",
      "Initializing GQEstimator\n",
      "Input size: 48\n",
      "Flattened size: 3456\n",
      "Number of parameters: 1218977\n"
     ]
    }
   ],
   "source": [
    "# Initialize model and move to GPU if available\n",
    "device = torch.device('cuda' if torch.cuda.is_available() else 'cpu')\n",
    "print(f\"Using device: {device}\")\n",
    "\n",
    "model = GQEstimator(\n",
    "    input_size=48,\n",
    "    base_channels=16,\n",
    "    fc_dims=[256, 128, 64]\n",
    ").to(device)"
   ]
  },
  {
   "cell_type": "markdown",
   "metadata": {},
   "source": [
    "### 3.2) Create the datasets"
   ]
  },
  {
   "cell_type": "code",
   "execution_count": 18,
   "metadata": {},
   "outputs": [
    {
     "name": "stdout",
     "output_type": "stream",
     "text": [
      "Subset samples: 100, Calculated train size: 80, Calculated val size: 20\n"
     ]
    }
   ],
   "source": [
    "from torch.utils.data import random_split, DataLoader\n",
    "\n",
    "# Load the dataset\n",
    "dataset = GraspDataset(data_path)\n",
    "# Create a subset of the dataset using a list comprehension to properly handle file paths\n",
    "subset_indices = list(range(100))\n",
    "dataset = torch.utils.data.Subset(dataset, subset_indices)\n",
    "\n",
    "# Split dataset into training and validation\n",
    "val_split = 0.2\n",
    "num_samples = len(dataset)\n",
    "\n",
    "train_size = int(num_samples * (1 - val_split))\n",
    "val_size = num_samples - train_size\n",
    "\n",
    "print(f\"Subset samples: {num_samples}, Calculated train size: {train_size}, Calculated val size: {val_size}\")\n",
    "\n",
    "batch_size = 1 # 1 scene per iteration\n",
    "\n",
    "# Create train/val splits with fixed seed\n",
    "train_dataset, val_dataset = random_split(dataset, [train_size, val_size], generator=torch.Generator().manual_seed(42))\n",
    "\n",
    "# Create DataLoaders with shuffling\n",
    "train_dataloader = DataLoader(\n",
    "    train_dataset, \n",
    "    batch_size=batch_size,\n",
    "    shuffle=True,\n",
    "    generator=torch.Generator().manual_seed(42)\n",
    ")\n",
    "\n",
    "val_dataloader = DataLoader(\n",
    "    val_dataset,\n",
    "    batch_size=batch_size, \n",
    "    shuffle=True,\n",
    "    generator=torch.Generator().manual_seed(42)\n",
    ")\n"
   ]
  },
  {
   "cell_type": "code",
   "execution_count": 11,
   "metadata": {},
   "outputs": [
    {
     "name": "stdout",
     "output_type": "stream",
     "text": [
      "\n",
      "Starting quick training for 100 epochs...\n"
     ]
    },
    {
     "name": "stderr",
     "output_type": "stream",
     "text": [
      "Epoch 1/100 Training:  21%|██▏       | 17/80 [02:20<08:42,  8.30s/it]"
     ]
    }
   ],
   "source": [
    "# Train the model\n",
    "optimizer = torch.optim.Adam(model.parameters(), lr=0.0001)\n",
    "criterion = torch.nn.MSELoss()\n",
    "num_epochs = 100 \n",
    "train_losses = []\n",
    "val_losses = []\n",
    "\n",
    "print(f\"\\nStarting quick training for {num_epochs} epochs...\")\n",
    "for epoch in range(num_epochs):\n",
    "    model.train()\n",
    "    epoch_train_loss = 0.0\n",
    "    num_train_batches_processed = 0\n",
    "\n",
    "    for batch_data in tqdm(train_dataloader, desc=f\"Epoch {epoch+1}/{num_epochs} Training\", leave=False):\n",
    "        \n",
    "        # For now, we are only working with batches of size 1,\n",
    "        # so the model is not designed to handle batch data\n",
    "        # Therefore, we have to unbatch the data\n",
    "        \n",
    "        sdf = batch_data['sdf'].float().to(device).squeeze(0)\n",
    "        hand_pose_batch = batch_data['grasps'].float().to(device).squeeze(0)\n",
    "        scores_batch = batch_data['scores'].float().to(device).squeeze(0)\n",
    "\n",
    "        num_grasps_in_sample = hand_pose_batch.shape[0]\n",
    "        if num_grasps_in_sample == 0: continue\n",
    "\n",
    "        batch_sample_train_loss = 0.0\n",
    "        optimizer.zero_grad()\n",
    "        for i in range(num_grasps_in_sample): # Consider limiting i for extreme speed up, e.g. range(min(num_grasps_in_sample, 5))\n",
    "            current_hand_pose = hand_pose_batch[i]\n",
    "            current_score = scores_batch[i]\n",
    "            \n",
    "            pred_quality = model(sdf, current_hand_pose)\n",
    "            loss = criterion(pred_quality, current_score)\n",
    "            loss.backward()\n",
    "            batch_sample_train_loss += loss.item()\n",
    "        \n",
    "        optimizer.step()\n",
    "        epoch_train_loss += (batch_sample_train_loss / num_grasps_in_sample)\n",
    "        num_train_batches_processed +=1\n",
    "\n",
    "    avg_epoch_train_loss = epoch_train_loss / num_train_batches_processed\n",
    "    train_losses.append(avg_epoch_train_loss)\n",
    "\n",
    "    avg_epoch_val_loss = float('nan')\n",
    "    if val_dataloader:\n",
    "        model.eval()\n",
    "        epoch_val_loss = 0.0\n",
    "        num_val_batches_processed = 0\n",
    "        with torch.no_grad():\n",
    "            for batch_data in tqdm(val_dataloader, desc=f\"Epoch {epoch+1}/{num_epochs} Validation\", leave=False):\n",
    "                sdf = batch_data['sdf'].float().to(device).squeeze(0)\n",
    "                hand_pose_batch = batch_data['grasps'].float().to(device).squeeze(0)\n",
    "                scores_batch = batch_data['scores'].float().to(device).squeeze(0)\n",
    "\n",
    "                num_grasps_in_sample = hand_pose_batch.shape[0]\n",
    "\n",
    "                batch_sample_val_loss = 0.0\n",
    "                for i in range(num_grasps_in_sample): # Consider limiting i\n",
    "                    current_hand_pose = hand_pose_batch[i]\n",
    "                    current_score = scores_batch[i]\n",
    "                    \n",
    "                    pred_quality = model(sdf, current_hand_pose)\n",
    "                    loss_val = criterion(pred_quality, current_score)\n",
    "                    batch_sample_val_loss += loss_val.item()\n",
    "                \n",
    "                epoch_val_loss += (batch_sample_val_loss / num_grasps_in_sample)\n",
    "                num_val_batches_processed +=1\n",
    "        \n",
    "    avg_epoch_val_loss = epoch_val_loss / num_val_batches_processed\n",
    "    val_losses.append(avg_epoch_val_loss)\n",
    "    print(f'Epoch [{epoch+1}/{num_epochs}], Train Loss: {avg_epoch_train_loss:.4f}, Val Loss: {avg_epoch_val_loss:.4f}')\n",
    "\n",
    "# Plot loss curve\n",
    "plt.figure(figsize=(10, 5))\n",
    "plt.plot(train_losses, label='Training Loss')\n",
    "plot_val_epochs = [i for i, vl in enumerate(val_losses) if not (isinstance(vl, float) and math.isnan(vl))]\n",
    "plot_val_losses_values = [vl for vl in val_losses if not (isinstance(vl, float) and math.isnan(vl))]\n",
    "if plot_val_losses_values:\n",
    "   plt.plot(plot_val_epochs, plot_val_losses_values, label='Validation Loss')\n",
    "plt.title(f'Training and Validation Loss, {num_epochs} Epochs, {num_samples} samples)')\n",
    "plt.xlabel('Epoch')\n",
    "plt.ylabel('Loss')\n",
    "plt.legend()\n",
    "plt.grid(True)\n",
    "plt.show()\n"
   ]
  },
  {
   "cell_type": "code",
   "execution_count": null,
   "metadata": {},
   "outputs": [],
   "source": []
  }
 ],
 "metadata": {
  "kernelspec": {
   "display_name": "adlr",
   "language": "python",
   "name": "python3"
  },
  "language_info": {
   "codemirror_mode": {
    "name": "ipython",
    "version": 3
   },
   "file_extension": ".py",
   "mimetype": "text/x-python",
   "name": "python",
   "nbconvert_exporter": "python",
   "pygments_lexer": "ipython3",
   "version": "3.10.13"
  }
 },
 "nbformat": 4,
 "nbformat_minor": 2
}
