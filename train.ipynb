{
 "cells": [
  {
   "cell_type": "markdown",
   "metadata": {},
   "source": [
    "## 1) Data Analysis"
   ]
  },
  {
   "cell_type": "code",
   "execution_count": 39,
   "metadata": {},
   "outputs": [
    {
     "name": "stdout",
     "output_type": "stream",
     "text": [
      "Sample contains the following keys:\n",
      "- sdf\n",
      "- grasps\n",
      "- scores\n",
      "\n",
      "Shapes:\n",
      "sdf: torch.Size([48, 48, 48])\n",
      "grasps: torch.Size([480, 7])\n",
      "scores: torch.Size([480])\n",
      "\n",
      "Basic statistics:\n",
      "sdf:\n",
      "  Min: -0.7169\n",
      "  Max: 1.4683\n",
      "  Mean: 0.6416\n",
      "  Std: 0.2782\n",
      "\n",
      "grasps:\n",
      "  Min: -0.5236\n",
      "  Max: 1.8326\n",
      "  Mean: 0.1521\n",
      "  Std: 0.4945\n",
      "\n",
      "scores:\n",
      "  Min: -1.5000\n",
      "  Max: 8.6819\n",
      "  Mean: 1.6106\n",
      "  Std: 2.8319\n",
      "\n"
     ]
    }
   ],
   "source": [
    "import torch\n",
    "from pathlib import Path\n",
    "from dataset import GraspDataset\n",
    "\n",
    "# Create dataset\n",
    "data_path = Path('data/processed')\n",
    "dataset = GraspDataset(data_path)\n",
    "\n",
    "# Get a single sample\n",
    "sample = dataset[0]\n",
    "\n",
    "# Print available keys\n",
    "print(\"Sample contains the following keys:\")\n",
    "for key in sample.keys():\n",
    "    print(f\"- {key}\")\n",
    "\n",
    "# Print tensor shapes and data types\n",
    "print(\"\\nShapes:\")\n",
    "for key, tensor in sample.items():\n",
    "    print(f\"{key}: {tensor.shape}\")\n",
    "\n",
    "# Basic statistics for numerical tensors\n",
    "print(\"\\nBasic statistics:\")\n",
    "for key, tensor in sample.items():\n",
    "    if torch.is_floating_point(tensor):\n",
    "        print(f\"{key}:\")\n",
    "        print(f\"  Min: {tensor.min().item():.4f}\")\n",
    "        print(f\"  Max: {tensor.max().item():.4f}\")\n",
    "        print(f\"  Mean: {tensor.mean().item():.4f}\")\n",
    "        print(f\"  Std: {tensor.std().item():.4f}\")\n",
    "        print()\n"
   ]
  },
  {
   "cell_type": "markdown",
   "metadata": {},
   "source": [
    "## 2) Overfitting on 1 sample"
   ]
  },
  {
   "cell_type": "code",
   "execution_count": 40,
   "metadata": {},
   "outputs": [],
   "source": [
    "from pathlib import Path\n",
    "from dataset import GraspDataset\n",
    "from model import GQEstimator\n",
    "import matplotlib.pyplot as plt\n",
    "from tqdm import tqdm\n",
    "import math"
   ]
  },
  {
   "cell_type": "markdown",
   "metadata": {},
   "source": [
    "### 2.1) Initialize the model"
   ]
  },
  {
   "cell_type": "code",
   "execution_count": 41,
   "metadata": {},
   "outputs": [
    {
     "name": "stdout",
     "output_type": "stream",
     "text": [
      "Using device: cpu\n",
      "Initializing GQEstimator\n",
      "Input size: 48\n",
      "Flattened size: 3456\n",
      "Number of parameters: 1218977\n"
     ]
    }
   ],
   "source": [
    "# Initialize model and move to GPU if available\n",
    "device = torch.device('cuda' if torch.cuda.is_available() else 'cpu')\n",
    "print(f\"Using device: {device}\")\n",
    "\n",
    "model = GQEstimator(\n",
    "    input_size=48,\n",
    "    base_channels=16,\n",
    "    fc_dims=[256, 128, 64]\n",
    ").to(device)"
   ]
  },
  {
   "cell_type": "markdown",
   "metadata": {},
   "source": [
    "### 2.2) Get a small number of samples"
   ]
  },
  {
   "cell_type": "code",
   "execution_count": 42,
   "metadata": {},
   "outputs": [
    {
     "name": "stdout",
     "output_type": "stream",
     "text": [
      "Sample 0:\n",
      "\tgrasps:  [0.5054746270179749, -0.30245712399482727, 0.22093413770198822, 0.4473852515220642, -0.1698407381772995, 0.22093413770198822, 0.020331908017396927]\n",
      "\tscore:  0.2908475995063782\n",
      "Sample 1:\n",
      "\tgrasps:  [-0.15527531504631042, 0.051241133362054825, 0.5109341740608215, -0.00543984305113554, -0.24455110728740692, 0.29093414545059204, -0.05535813421010971]\n",
      "\tscore:  4.798680782318115\n",
      "Sample 2:\n",
      "\tgrasps:  [1.8254671096801758, -0.11798396706581116, -0.3390658497810364, 0.4247075319290161, -0.185663640499115, 1.50093412399292, 1.8254671096801758]\n",
      "\tscore:  -0.23100000619888306\n",
      "torch.Size([7])\n",
      "torch.Size([])\n",
      "torch.Size([48, 48, 48])\n"
     ]
    }
   ],
   "source": [
    "# Create dataset\n",
    "data_path = Path('data/processed')\n",
    "\n",
    "dataset = GraspDataset(data_path)\n",
    "\n",
    "scene = dataset[0]\n",
    "\n",
    "def get_samples(scene, num_samples):\n",
    "    # Get num_samples many unique indices\n",
    "    indices = torch.randperm(len(scene['grasps']))[:num_samples]\n",
    "    samples = []\n",
    "    for i in indices:\n",
    "        sample = {\n",
    "            'grasps': scene['grasps'][i].float().to(device),\n",
    "            'scores': scene['scores'][i].float().to(device),\n",
    "            'sdf': scene['sdf'].float().to(device)\n",
    "        }\n",
    "        samples.append(sample)\n",
    "    return samples\n",
    "\n",
    "samples = get_samples(scene, 10)\n",
    "\n",
    "for i, sample in enumerate(samples[:3]):\n",
    "    print(f\"Sample {i}:\")\n",
    "    print(\"\\tgrasps: \", sample['grasps'].tolist())\n",
    "    print(\"\\tscore: \", sample['scores'].item())\n",
    "\n",
    "\n",
    "print(samples[0]['grasps'].shape)\n",
    "print(samples[0]['scores'].shape)\n",
    "print(samples[0]['sdf'].shape)\n",
    "\n"
   ]
  },
  {
   "cell_type": "markdown",
   "metadata": {},
   "source": [
    "### 2.3) Overfit on these samples from that one scene"
   ]
  },
  {
   "cell_type": "code",
   "execution_count": 43,
   "metadata": {},
   "outputs": [
    {
     "name": "stdout",
     "output_type": "stream",
     "text": [
      "[3.3578329416923225, 3.351738533517346, 3.3467839552788066, 3.3420935980044306, 3.3373827493051067, 3.3325183332664894, 3.3271476332098247, 3.321318374108523, 3.3152254891232587, 3.3080593465361745, 3.299414125122712, 3.289671158909914, 3.279697585789063, 3.2681596997152154, 3.2527044883026974, 3.237491379841231, 3.2227034751558676, 3.206209039373789, 3.1889416184436414, 3.171093037335595, 3.1522676274122206, 3.1344539019279183, 3.1157703625503927, 3.0985187691636384, 3.0805440861731768, 3.0646216712892054, 3.0489865211769938, 3.03604226289317, 3.0244412493892012, 3.014778626244515, 3.006335802259855, 2.999667256657267, 2.994259400340161, 2.9901393842155812, 2.986986438720487, 2.984294801973738, 2.982209864608012, 2.980564542207867, 2.9790279731620104, 2.9777960604522375, 2.97696794513613, 2.9762587712612003, 2.9757680517621337, 2.9755003358237446, 2.974622671492398, 2.9746320794336496, 2.9738847501575947, 2.973855051957071, 2.973603675886989, 2.973373271431774, 2.9728855889290573, 2.9729016378521917, 2.9726565686054527, 2.9725196750834586, 2.9725430807098747, 2.9723894968628883, 2.9721997931599615, 2.9719028098508717, 2.9717722142115237, 2.971675217524171, 2.9716447655111553, 2.971381208114326, 2.971318439114839, 2.9711202662438154, 2.9707918218337, 2.970794081967324, 2.9707414778880774, 2.9707226160913707, 2.970440071914345, 2.9703421292826535, 2.970267129782587, 2.9702172012068333, 2.969935827422887, 2.969966709241271, 2.9697584081441164, 2.9696202922612427, 2.9695009330287574, 2.969475799240172, 2.96938368100673, 2.9691650961525737, 2.9691448510624467, 2.9691996898502113, 2.9688702733255923, 2.968914210330695, 2.968771180510521, 2.9686311902478337, 2.9686440168879926, 2.9684045198373497, 2.9683507637120785, 2.9681990507990124, 2.968183379713446, 2.9679903401061893, 2.9679828718304635, 2.967762800026685, 2.9679167391732335, 2.967645271494985, 2.967574662528932, 2.9674223222769798, 2.9671748697757723, 2.967186692170799]\n"
     ]
    },
    {
     "data": {
      "image/png": "[encoded data removed]",
      "text/plain": [
       "<Figure size 640x480 with 1 Axes>"
      ]
     },
     "metadata": {},
     "output_type": "display_data"
    }
   ],
   "source": [
    "EPOCHS = 100\n",
    "\n",
    "losses = []\n",
    "optimizer = torch.optim.Adam(model.parameters(), lr=1e-5)\n",
    "criterion = torch.nn.MSELoss()\n",
    "\n",
    "for epoch in range(EPOCHS):\n",
    "    epoch_loss = 0.0\n",
    "    for sample in samples:\n",
    "        optimizer.zero_grad()\n",
    "        pred_quality = model(sample['sdf'], sample['grasps'])\n",
    "        loss = criterion(pred_quality, sample['scores'])\n",
    "        loss.backward()\n",
    "        optimizer.step()\n",
    "        epoch_loss += loss.item()\n",
    "\n",
    "    epoch_loss /= len(samples)\n",
    "    losses.append(epoch_loss)\n",
    "\n",
    "print(losses)\n",
    "\n",
    "plt.plot(losses)\n",
    "plt.xlabel('Epoch')\n",
    "plt.ylabel('Loss')\n",
    "plt.title('Training Loss Curve')\n",
    "plt.show()\n"
   ]
  },
  {
   "cell_type": "markdown",
   "metadata": {},
   "source": [
    "## 3) Full Training"
   ]
  },
  {
   "cell_type": "markdown",
   "metadata": {},
   "source": [
    "### 3.2) Create the datasets"
   ]
  },
  {
   "cell_type": "code",
   "execution_count": null,
   "metadata": {},
   "outputs": [
    {
     "name": "stdout",
     "output_type": "stream",
     "text": [
      "Subset samples: 15547, Calculated train size: 12437, Calculated val size: 3110\n"
     ]
    }
   ],
   "source": [
    "import random\n",
    "\n",
    "# Load the dataset\n",
    "dataset = GraspDataset(data_path)\n",
    "\n",
    "# Split dataset into training and validation\n",
    "val_split = 0.2\n",
    "num_samples = len(dataset)\n",
    "train_size = int(num_samples * (1 - val_split))\n",
    "val_size = num_samples - train_size\n",
    "\n",
    "print(f\"Subset samples: {num_samples}, Calculated train size: {train_size}, Calculated val size: {val_size}\")\n",
    "\n",
    "# Shuffle indices\n",
    "random.seed(42)\n",
    "indices = list(range(num_samples))\n",
    "random.shuffle(indices)\n",
    "\n",
    "# Split indices\n",
    "train_indices = indices[:100]\n",
    "val_indices = indices[-10:]\n",
    "\n",
    "# Create Subsets\n",
    "train_dataset = torch.utils.data.Subset(dataset, train_indices)\n",
    "val_dataset = torch.utils.data.Subset(dataset, val_indices)"
   ]
  },
  {
   "cell_type": "code",
   "execution_count": null,
   "metadata": {},
   "outputs": [
    {
     "name": "stdout",
     "output_type": "stream",
     "text": [
      "Using device: cpu\n",
      "Initializing GQEstimator\n",
      "Input size: 48\n",
      "Flattened size: 3456\n",
      "Number of parameters: 1218977\n",
      "\n",
      "Starting quick training for 100 epochs...\n"
     ]
    },
    {
     "name": "stderr",
     "output_type": "stream",
     "text": [
      "Epoch 1/100 Training:   0%|          | 0/12437 [00:00<?, ?it/s]/opt/homebrew/anaconda3/envs/adlr/lib/python3.10/site-packages/torch/nn/modules/loss.py:610: UserWarning: Using a target size (torch.Size([])) that is different to the input size (torch.Size([1])). This will likely lead to incorrect results due to broadcasting. Please ensure they have the same size.\n",
      "  return F.mse_loss(input, target, reduction=self.reduction)\n",
      "Epoch 1/100 Training:   0%|          | 12/12437 [01:47<31:15:22,  9.06s/it]"
     ]
    }
   ],
   "source": [
    "# Initialize model and move to device\n",
    "device = torch.device('cuda' if torch.cuda.is_available() else 'cpu')\n",
    "print(f\"Using device: {device}\")\n",
    "\n",
    "model = GQEstimator(\n",
    "    input_size=48,\n",
    "    base_channels=16,\n",
    "    fc_dims=[256, 128, 64]\n",
    ").to(device)\n",
    "\n",
    "# Training parameters\n",
    "optimizer = torch.optim.Adam(model.parameters(), lr=0.0001)\n",
    "criterion = torch.nn.MSELoss()\n",
    "num_epochs = 100\n",
    "train_losses = []\n",
    "val_losses = []\n",
    "\n",
    "print(f\"\\nStarting quick training for {num_epochs} epochs...\")\n",
    "for epoch in range(num_epochs):\n",
    "    model.train()\n",
    "    epoch_train_loss = 0.0\n",
    "\n",
    "    # Iterate over scenes\n",
    "    for scene in tqdm(train_dataset, desc=f\"Epoch {epoch+1}/{num_epochs} Training\", leave=False):\n",
    "        num_samples = len(scene['grasps'])\n",
    "\n",
    "        for i in range(num_samples):\n",
    "            sdf = scene['sdf'].float().to(device)\n",
    "            hand_pose = scene['grasps'][i].float().to(device)\n",
    "            scores = scene['scores'][i].float().to(device)\n",
    "\n",
    "            optimizer.zero_grad()\n",
    "            pred_quality = model(sdf, hand_pose)\n",
    "            loss = criterion(pred_quality, scores)\n",
    "            loss.backward()\n",
    "            optimizer.step()\n",
    "\n",
    "            epoch_train_loss += loss.item()\n",
    "\n",
    "    avg_epoch_train_loss = epoch_train_loss / train_size\n",
    "    train_losses.append(avg_epoch_train_loss)\n",
    "\n",
    "    # Validation loop\n",
    "    model.eval()\n",
    "    epoch_val_loss = 0.0\n",
    "    with torch.no_grad():\n",
    "        for scene in tqdm(val_dataset, desc=f\"Epoch {epoch+1}/{num_epochs} Validation\", leave=False):\n",
    "            num_samples = len(scene['grasps'])\n",
    "\n",
    "            for i in range(num_samples):\n",
    "                sdf = scene['sdf'].float().to(device)\n",
    "                hand_pose = scene['grasps'][i].float().to(device)\n",
    "                scores = scene['scores'][i].float().to(device)\n",
    "\n",
    "            pred_quality = model(sdf, hand_pose)\n",
    "            loss = criterion(pred_quality, scores)\n",
    "            epoch_val_loss += loss.item()\n",
    "\n",
    "    avg_epoch_val_loss = epoch_val_loss / val_size\n",
    "    val_losses.append(avg_epoch_val_loss)\n",
    "\n",
    "    print(f'Epoch [{epoch+1}/{num_epochs}], Train Loss: {avg_epoch_train_loss:.4f}, Val Loss: {avg_epoch_val_loss:.4f}')\n",
    "\n",
    "# Plot loss curve\n",
    "plt.figure(figsize=(10, 5))\n",
    "plt.plot(train_losses, label='Training Loss')\n",
    "plt.plot(val_losses, label='Validation Loss')\n",
    "plt.xlabel('Epoch')\n",
    "plt.ylabel('Loss')\n",
    "plt.legend()\n",
    "plt.grid(True)\n",
    "plt.show()"
   ]
  },
  {
   "cell_type": "code",
   "execution_count": null,
   "metadata": {},
   "outputs": [],
   "source": []
  }
 ],
 "metadata": {
  "kernelspec": {
   "display_name": "adlr",
   "language": "python",
   "name": "python3"
  },
  "language_info": {
   "codemirror_mode": {
    "name": "ipython",
    "version": 3
   },
   "file_extension": ".py",
   "mimetype": "text/x-python",
   "name": "python",
   "nbconvert_exporter": "python",
   "pygments_lexer": "ipython3",
   "version": "3.10.13"
  }
 },
 "nbformat": 4,
 "nbformat_minor": 2
}
