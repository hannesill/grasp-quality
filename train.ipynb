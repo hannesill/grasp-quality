{
 "cells": [
  {
   "cell_type": "markdown",
   "metadata": {},
   "source": [
    "## 1) Data Analysis"
   ]
  },
  {
   "cell_type": "code",
   "execution_count": 1,
   "metadata": {},
   "outputs": [
    {
     "name": "stdout",
     "output_type": "stream",
     "text": [
      "Sample contains the following keys:\n",
      "- sdf\n",
      "- grasp\n",
      "- score\n",
      "- scene_idx\n",
      "- grasp_idx\n",
      "\n",
      "Shapes:\n",
      "sdf: torch.Size([48, 48, 48])\n",
      "grasp: torch.Size([19])\n",
      "score: torch.Size([])\n",
      "\n",
      "Basic statistics:\n",
      "sdf:\n",
      "  Min: -0.7169\n",
      "  Max: 1.4683\n",
      "  Mean: 0.6416\n",
      "  Std: 0.2782\n",
      "\n",
      "grasp:\n",
      "  Min: -0.2937\n",
      "  Max: 1.8255\n",
      "  Mean: 0.3404\n",
      "  Std: 0.5473\n",
      "\n",
      "Score: 0.33304598927497864\n"
     ]
    }
   ],
   "source": [
    "import torch\n",
    "from pathlib import Path\n",
    "from dataset import GraspDataset\n",
    "\n",
    "# Create dataset\n",
    "data_path = Path('data/processed')\n",
    "dataset = GraspDataset(data_path)\n",
    "\n",
    "# Get a single sample\n",
    "sample = dataset[1]\n",
    "\n",
    "# Print available keys\n",
    "print(\"Sample contains the following keys:\")\n",
    "for key in sample.keys():\n",
    "    print(f\"- {key}\")\n",
    "\n",
    "# Print tensor shapes and data types\n",
    "print(\"\\nShapes:\")\n",
    "for key, tensor in sample.items():\n",
    "    if key == \"scene_idx\" or key == \"grasp_idx\":\n",
    "        continue\n",
    "    print(f\"{key}: {tensor.shape}\")\n",
    "\n",
    "# Basic statistics for numerical tensors\n",
    "print(\"\\nBasic statistics:\")\n",
    "for key, tensor in sample.items():\n",
    "    if key == \"scene_idx\" or key == \"grasp_idx\" or key == \"score\":\n",
    "        continue\n",
    "    if torch.is_floating_point(tensor):\n",
    "        print(f\"{key}:\")\n",
    "        print(f\"  Min: {tensor.min().item():.4f}\")\n",
    "        print(f\"  Max: {tensor.max().item():.4f}\")\n",
    "        print(f\"  Mean: {tensor.mean().item():.4f}\")\n",
    "        print(f\"  Std: {tensor.std().item():.4f}\")\n",
    "        print()\n",
    "\n",
    "print(f\"Score: {sample['score']}\")\n"
   ]
  },
  {
   "cell_type": "markdown",
   "metadata": {},
   "source": [
    "## 2) Overfitting on 1 sample"
   ]
  },
  {
   "cell_type": "code",
   "execution_count": 2,
   "metadata": {},
   "outputs": [],
   "source": [
    "from pathlib import Path\n",
    "from dataset import GraspDataset\n",
    "from model import GQEstimator\n",
    "import matplotlib.pyplot as plt\n",
    "from tqdm import tqdm\n",
    "import numpy as np\n",
    "import random\n",
    "import math"
   ]
  },
  {
   "cell_type": "markdown",
   "metadata": {},
   "source": [
    "### 2.1) Initialize the model"
   ]
  },
  {
   "cell_type": "code",
   "execution_count": 3,
   "metadata": {},
   "outputs": [
    {
     "name": "stdout",
     "output_type": "stream",
     "text": [
      "Using device: cpu\n",
      "Initializing GQEstimator\n",
      "Input size: 48\n",
      "Flattened size: 3456\n",
      "Number of parameters: 1222049\n"
     ]
    }
   ],
   "source": [
    "# Initialize model and move to GPU if available\n",
    "device = torch.device('cuda' if torch.cuda.is_available() else 'cpu')\n",
    "print(f\"Using device: {device}\")\n",
    "\n",
    "model = GQEstimator(\n",
    "    input_size=48,\n",
    "    base_channels=16,\n",
    "    fc_dims=[256, 128, 64]\n",
    ").to(device)"
   ]
  },
  {
   "cell_type": "markdown",
   "metadata": {},
   "source": [
    "### 2.2) Get a small number of samples"
   ]
  },
  {
   "cell_type": "code",
   "execution_count": 4,
   "metadata": {},
   "outputs": [
    {
     "name": "stdout",
     "output_type": "stream",
     "text": [
      "len(dataset):  7462560\n",
      "Scene indices:  tensor([6212245, 4311537, 3622143,  954672, 4047315, 1407584, 5145161, 3381037,\n",
      "          75766, 5979714])\n",
      "Sample 0:\n",
      "\tgrasp:  [0.06408321857452393, 0.014916861429810524, 0.2829621136188507, 0.9840953946113586, -0.036999788135290146, -0.16905753314495087, 0.0400857999920845, -0.03852662816643715, -0.14906585216522217, 0.33989545702934265, -0.2187262624502182, -0.03906584903597832, 0.249733105301857, -0.23981529474258423, 0.0009341436671093106, 0.2580556869506836, -0.3212704062461853, 0.16093413531780243, 0.16526134312152863]\n",
      "\tscore:  1.4937500953674316\n",
      "Sample 1:\n",
      "\tgrasp:  [-0.03293197602033615, -0.019420089200139046, 0.2871796488761902, -0.21385937929153442, 0.9675678014755249, 0.01678565703332424, 0.1333979368209839, 0.306367427110672, -0.10906585305929184, 0.3082764446735382, -0.26800212264060974, 0.0909341499209404, 0.24546706676483154, -0.519659698009491, 0.020934155210852623, 0.28546708822250366, -0.3938348889350891, 0.22093413770198822, 0.0335390605032444]\n",
      "\tscore:  10.743685722351074\n",
      "Sample 2:\n",
      "\tgrasp:  [-0.05471457913517952, 0.026803359389305115, 0.2693283259868622, 0.38959622383117676, 0.8751334547996521, 0.007780775427818298, 0.2868722081184387, 0.262468159198761, 0.45093417167663574, 0.10426421463489532, 0.18972429633140564, 0.4309341311454773, 0.13377156853675842, -0.42824140191078186, 0.5109341740608215, 0.1911604106426239, -0.46419259905815125, -0.32906585931777954, 0.21927285194396973]\n",
      "\tscore:  1.9273138046264648\n",
      "torch.Size([19])\n",
      "torch.Size([])\n",
      "torch.Size([48, 48, 48])\n"
     ]
    }
   ],
   "source": [
    "# Create dataset\n",
    "data_path = Path('data/processed')\n",
    "\n",
    "dataset = GraspDataset(data_path)\n",
    "print(\"len(dataset): \", len(dataset))\n",
    "\n",
    "def get_samples(dataset, num_samples):\n",
    "    # Get num_samples many unique indices\n",
    "    indices = torch.randperm(len(dataset))[:num_samples]\n",
    "    samples = []\n",
    "    print(\"Scene indices: \", indices)\n",
    "    for i in indices:\n",
    "        # Choose random grasp from scene\n",
    "        sample = dataset[i]\n",
    "        samples.append(sample)\n",
    "    return samples\n",
    "\n",
    "samples = get_samples(dataset, 10)\n",
    "\n",
    "for i, sample in enumerate(samples[:3]):\n",
    "    print(f\"Sample {i}:\")\n",
    "    print(\"\\tgrasp: \", sample['grasp'].tolist())\n",
    "    print(\"\\tscore: \", sample['score'].item())\n",
    "\n",
    "\n",
    "print(samples[0]['grasp'].shape)\n",
    "print(samples[0]['score'].shape)\n",
    "print(samples[0]['sdf'].shape)\n",
    "\n"
   ]
  },
  {
   "cell_type": "markdown",
   "metadata": {},
   "source": [
    "### 2.3) Overfit on these samples from that one scene"
   ]
  },
  {
   "cell_type": "code",
   "execution_count": 5,
   "metadata": {},
   "outputs": [
    {
     "name": "stderr",
     "output_type": "stream",
     "text": [
      "100%|██████████| 100/100 [00:19<00:00,  5.10it/s]\n"
     ]
    },
    {
     "name": "stdout",
     "output_type": "stream",
     "text": [
      "[33.852535003143565, 33.82564838450344, 33.80239131335111, 33.78054148642987, 33.755153924250045, 33.72462977670948, 33.6906148870592, 33.65138012394309, 33.60318425199948, 33.54404980414547, 33.46539399898611, 33.37431283313781, 33.26452881507576, 33.127338499575856, 32.9278526108712, 32.66041946709156, 32.302463410794736, 31.83510336726904, 31.258318695425988, 30.54397416114807, 29.713161358237265, 28.80234619230032, 27.858371981047092, 26.954981437139214, 26.147606919333338, 25.47512131119147, 24.959192992560567, 24.57851778450422, 24.318386101722716, 24.14395805373788, 24.024524487555027, 23.943235252797603, 23.88658289909363, 23.845990458130835, 23.815415593981744, 23.791451600193977, 23.772195053100585, 23.756141915917397, 23.742214417457582, 23.727302134037018, 23.718454712629317, 23.70919724702835, 23.700012734532358, 23.690501090884208, 23.68138506114483, 23.672595292329788, 23.664178279042243, 23.655999186635018, 23.648153099417687, 23.640522351861, 23.63311766088009, 23.625816628336906, 23.61864451766014, 23.6115915030241, 23.60461548268795, 23.59764401614666, 23.59079334139824, 23.584006464481355, 23.57727320790291, 23.569409760832787, 23.563671559095383, 23.557531678676604, 23.551174625754356, 23.54473424255848, 23.538275253772735, 23.53186156153679, 23.525455075502396, 23.519081643223764, 23.51278002858162, 23.506238111853598, 23.4997787296772, 23.493344041705132, 23.486905586719512, 23.480509856343268, 23.474142563343047, 23.4677486628294, 23.461361464858054, 23.45496037900448, 23.448481079936027, 23.44202152490616, 23.43552936017513, 23.428998574614525, 23.4224096596241, 23.41585484445095, 23.409345412254332, 23.40259819626808, 23.39585976600647, 23.389098569750786, 23.382248163223267, 23.375265702605247, 23.36833682358265, 23.36142166554928, 23.354361733794214, 23.347314950823783, 23.34018041789532, 23.332942229509353, 23.32569510936737, 23.31864089667797, 23.311292245984077, 23.3039093375206]\n"
     ]
    },
    {
     "data": {
      "image/png": "[encoded data removed]",
      "text/plain": [
       "<Figure size 640x480 with 1 Axes>"
      ]
     },
     "metadata": {},
     "output_type": "display_data"
    }
   ],
   "source": [
    "EPOCHS = 100\n",
    "\n",
    "losses = []\n",
    "\n",
    "# Play around with the learning rate and run this cell multiple times \n",
    "# to see how it affects the loss curve\n",
    "optimizer = torch.optim.Adam(model.parameters(), lr=1e-5)\n",
    "criterion = torch.nn.MSELoss()\n",
    "\n",
    "for epoch in tqdm(range(EPOCHS)):\n",
    "    epoch_loss = 0.0\n",
    "    for sample in samples:\n",
    "        optimizer.zero_grad()\n",
    "        sdf_features = model.encode_sdf(sample['sdf'])\n",
    "        flattened_features = torch.cat([sdf_features, sample['grasp']])\n",
    "        pred_quality = model(flattened_features).squeeze()\n",
    "        loss = criterion(pred_quality, sample['score'])\n",
    "        loss.backward()\n",
    "        optimizer.step()\n",
    "        epoch_loss += loss.item()\n",
    "\n",
    "    epoch_loss /= len(samples)\n",
    "    losses.append(epoch_loss)\n",
    "\n",
    "print(losses)\n",
    "\n",
    "plt.plot(losses)\n",
    "plt.xlabel('Epoch')\n",
    "plt.ylabel('Loss')\n",
    "plt.title('Training Loss Curve')\n",
    "plt.show()\n"
   ]
  },
  {
   "cell_type": "markdown",
   "metadata": {},
   "source": [
    "## 3) Full Training"
   ]
  },
  {
   "cell_type": "markdown",
   "metadata": {},
   "source": [
    "### 3.2) Create the datasets"
   ]
  },
  {
   "cell_type": "code",
   "execution_count": 6,
   "metadata": {},
   "outputs": [
    {
     "name": "stdout",
     "output_type": "stream",
     "text": [
      "Subset samples: 7462560, Calculated train size: 5970048, Calculated val size: 1492512\n",
      "Train dataset size: 1000, Validation dataset size: 100\n"
     ]
    }
   ],
   "source": [
    "import random\n",
    "\n",
    "# Load the dataset\n",
    "dataset = GraspDataset(data_path)\n",
    "\n",
    "# Split dataset into training and validation\n",
    "val_split = 0.2\n",
    "num_samples = len(dataset)\n",
    "train_size = int(num_samples * (1 - val_split))\n",
    "val_size = num_samples - train_size\n",
    "\n",
    "print(f\"Subset samples: {num_samples}, Calculated train size: {train_size}, Calculated val size: {val_size}\")\n",
    "\n",
    "# Shuffle indices\n",
    "random.seed(42)\n",
    "indices = list(range(num_samples))\n",
    "random.shuffle(indices)\n",
    "\n",
    "# Split indices\n",
    "train_indices = indices[:1000]\n",
    "val_indices = indices[-100:]\n",
    "\n",
    "# Create Subsets\n",
    "train_dataset = torch.utils.data.Subset(dataset, train_indices)\n",
    "val_dataset = torch.utils.data.Subset(dataset, val_indices)\n",
    "\n",
    "print(f\"Train dataset size: {len(train_dataset)}, Validation dataset size: {len(val_dataset)}\")"
   ]
  },
  {
   "cell_type": "code",
   "execution_count": null,
   "metadata": {},
   "outputs": [
    {
     "name": "stdout",
     "output_type": "stream",
     "text": [
      "Using device: cpu\n",
      "Total scenes: 7462560, Train scenes: 5970048, Val scenes: 1492512\n",
      "Train dataset size: 5000, Validation dataset size: 1000\n",
      "\n",
      "=== Data Distribution Analysis ===\n",
      "Train scores - Mean: 5.050, Std: 6.959\n",
      "Val scores   - Mean: 5.118, Std: 7.064\n",
      "Distribution difference: 0.068\n",
      "Initializing GQEstimator\n",
      "Input size: 48\n",
      "Flattened size: 864\n",
      "Number of parameters: 46873\n",
      "\n",
      "Starting training for 100 epochs...\n"
     ]
    },
    {
     "name": "stderr",
     "output_type": "stream",
     "text": [
      "Epoch 1/100 Training: 100%|██████████| 157/157 [00:47<00:00,  3.31it/s]\n",
      "Epoch 1/100 Validation: 100%|██████████| 32/32 [00:06<00:00,  4.62it/s]\n"
     ]
    },
    {
     "name": "stdout",
     "output_type": "stream",
     "text": [
      "Epoch [1/100], Train Loss: 50.1658, Val Loss: 48.2879\n"
     ]
    },
    {
     "name": "stderr",
     "output_type": "stream",
     "text": [
      "Epoch 2/100 Training: 100%|██████████| 157/157 [00:43<00:00,  3.57it/s]\n",
      "Epoch 2/100 Validation: 100%|██████████| 32/32 [00:04<00:00,  7.51it/s]\n"
     ]
    },
    {
     "name": "stdout",
     "output_type": "stream",
     "text": [
      "Epoch [2/100], Train Loss: 42.7466, Val Loss: 42.3842\n"
     ]
    },
    {
     "name": "stderr",
     "output_type": "stream",
     "text": [
      "Epoch 3/100 Training: 100%|██████████| 157/157 [00:44<00:00,  3.55it/s]\n",
      "Epoch 3/100 Validation: 100%|██████████| 32/32 [00:04<00:00,  7.50it/s]\n"
     ]
    },
    {
     "name": "stdout",
     "output_type": "stream",
     "text": [
      "Epoch [3/100], Train Loss: 38.3407, Val Loss: 38.2104\n"
     ]
    },
    {
     "name": "stderr",
     "output_type": "stream",
     "text": [
      "Epoch 4/100 Training: 100%|██████████| 157/157 [00:43<00:00,  3.59it/s]\n",
      "Epoch 4/100 Validation: 100%|██████████| 32/32 [00:04<00:00,  7.81it/s]\n"
     ]
    },
    {
     "name": "stdout",
     "output_type": "stream",
     "text": [
      "Epoch [4/100], Train Loss: 36.9187, Val Loss: 37.4240\n"
     ]
    },
    {
     "name": "stderr",
     "output_type": "stream",
     "text": [
      "Epoch 5/100 Training: 100%|██████████| 157/157 [00:43<00:00,  3.57it/s]\n",
      "Epoch 5/100 Validation: 100%|██████████| 32/32 [00:04<00:00,  7.49it/s]\n"
     ]
    },
    {
     "name": "stdout",
     "output_type": "stream",
     "text": [
      "Epoch [5/100], Train Loss: 35.7061, Val Loss: 36.5506\n"
     ]
    },
    {
     "name": "stderr",
     "output_type": "stream",
     "text": [
      "Epoch 6/100 Training: 100%|██████████| 157/157 [00:44<00:00,  3.56it/s]\n",
      "Epoch 6/100 Validation: 100%|██████████| 32/32 [00:04<00:00,  7.54it/s]\n"
     ]
    },
    {
     "name": "stdout",
     "output_type": "stream",
     "text": [
      "Epoch [6/100], Train Loss: 34.3336, Val Loss: 35.5981\n"
     ]
    },
    {
     "name": "stderr",
     "output_type": "stream",
     "text": [
      "Epoch 7/100 Training: 100%|██████████| 157/157 [00:44<00:00,  3.54it/s]\n",
      "Epoch 7/100 Validation: 100%|██████████| 32/32 [00:04<00:00,  7.53it/s]\n"
     ]
    },
    {
     "name": "stdout",
     "output_type": "stream",
     "text": [
      "Epoch [7/100], Train Loss: 33.1086, Val Loss: 34.5169\n"
     ]
    },
    {
     "name": "stderr",
     "output_type": "stream",
     "text": [
      "Epoch 8/100 Training: 100%|██████████| 157/157 [00:44<00:00,  3.50it/s]\n",
      "Epoch 8/100 Validation: 100%|██████████| 32/32 [00:04<00:00,  7.49it/s]\n"
     ]
    },
    {
     "name": "stdout",
     "output_type": "stream",
     "text": [
      "Epoch [8/100], Train Loss: 31.7449, Val Loss: 33.6585\n"
     ]
    },
    {
     "name": "stderr",
     "output_type": "stream",
     "text": [
      "Epoch 9/100 Training: 100%|██████████| 157/157 [00:43<00:00,  3.57it/s]\n",
      "Epoch 9/100 Validation: 100%|██████████| 32/32 [00:04<00:00,  7.67it/s]\n"
     ]
    },
    {
     "name": "stdout",
     "output_type": "stream",
     "text": [
      "Epoch [9/100], Train Loss: 30.5637, Val Loss: 32.4458\n"
     ]
    },
    {
     "name": "stderr",
     "output_type": "stream",
     "text": [
      "Epoch 10/100 Training: 100%|██████████| 157/157 [00:44<00:00,  3.51it/s]\n",
      "Epoch 10/100 Validation: 100%|██████████| 32/32 [00:04<00:00,  7.58it/s]\n"
     ]
    },
    {
     "name": "stdout",
     "output_type": "stream",
     "text": [
      "Epoch [10/100], Train Loss: 29.4651, Val Loss: 31.5068\n"
     ]
    },
    {
     "name": "stderr",
     "output_type": "stream",
     "text": [
      "Epoch 11/100 Training: 100%|██████████| 157/157 [00:44<00:00,  3.49it/s]\n",
      "Epoch 11/100 Validation: 100%|██████████| 32/32 [00:04<00:00,  7.42it/s]\n"
     ]
    },
    {
     "name": "stdout",
     "output_type": "stream",
     "text": [
      "Epoch [11/100], Train Loss: 28.4583, Val Loss: 30.5775\n"
     ]
    },
    {
     "name": "stderr",
     "output_type": "stream",
     "text": [
      "Epoch 12/100 Training: 100%|██████████| 157/157 [00:44<00:00,  3.50it/s]\n",
      "Epoch 12/100 Validation: 100%|██████████| 32/32 [00:04<00:00,  7.49it/s]\n"
     ]
    },
    {
     "name": "stdout",
     "output_type": "stream",
     "text": [
      "Epoch [12/100], Train Loss: 27.5832, Val Loss: 30.1039\n"
     ]
    },
    {
     "name": "stderr",
     "output_type": "stream",
     "text": [
      "Epoch 13/100 Training: 100%|██████████| 157/157 [00:44<00:00,  3.56it/s]\n",
      "Epoch 13/100 Validation: 100%|██████████| 32/32 [00:04<00:00,  7.70it/s]\n"
     ]
    },
    {
     "name": "stdout",
     "output_type": "stream",
     "text": [
      "Epoch [13/100], Train Loss: 26.9205, Val Loss: 29.6695\n"
     ]
    },
    {
     "name": "stderr",
     "output_type": "stream",
     "text": [
      "Epoch 14/100 Training: 100%|██████████| 157/157 [00:43<00:00,  3.57it/s]\n",
      "Epoch 14/100 Validation: 100%|██████████| 32/32 [00:04<00:00,  7.95it/s]\n"
     ]
    },
    {
     "name": "stdout",
     "output_type": "stream",
     "text": [
      "Epoch [14/100], Train Loss: 26.3757, Val Loss: 29.2969\n"
     ]
    },
    {
     "name": "stderr",
     "output_type": "stream",
     "text": [
      "Epoch 15/100 Training: 100%|██████████| 157/157 [00:44<00:00,  3.56it/s]\n",
      "Epoch 15/100 Validation: 100%|██████████| 32/32 [00:04<00:00,  7.69it/s]\n"
     ]
    },
    {
     "name": "stdout",
     "output_type": "stream",
     "text": [
      "Epoch [15/100], Train Loss: 26.0673, Val Loss: 29.0342\n"
     ]
    },
    {
     "name": "stderr",
     "output_type": "stream",
     "text": [
      "Epoch 16/100 Training: 100%|██████████| 157/157 [00:44<00:00,  3.54it/s]\n",
      "Epoch 16/100 Validation: 100%|██████████| 32/32 [00:04<00:00,  7.63it/s]\n"
     ]
    },
    {
     "name": "stdout",
     "output_type": "stream",
     "text": [
      "Epoch [16/100], Train Loss: 25.5831, Val Loss: 28.7085\n"
     ]
    },
    {
     "name": "stderr",
     "output_type": "stream",
     "text": [
      "Epoch 17/100 Training: 100%|██████████| 157/157 [00:43<00:00,  3.61it/s]\n",
      "Epoch 17/100 Validation: 100%|██████████| 32/32 [00:04<00:00,  7.56it/s]\n"
     ]
    },
    {
     "name": "stdout",
     "output_type": "stream",
     "text": [
      "Epoch [17/100], Train Loss: 25.2546, Val Loss: 28.6332\n"
     ]
    },
    {
     "name": "stderr",
     "output_type": "stream",
     "text": [
      "Epoch 18/100 Training: 100%|██████████| 157/157 [00:43<00:00,  3.60it/s]\n",
      "Epoch 18/100 Validation: 100%|██████████| 32/32 [00:04<00:00,  7.68it/s]\n"
     ]
    },
    {
     "name": "stdout",
     "output_type": "stream",
     "text": [
      "Epoch [18/100], Train Loss: 24.9121, Val Loss: 28.3818\n"
     ]
    },
    {
     "name": "stderr",
     "output_type": "stream",
     "text": [
      "Epoch 19/100 Training: 100%|██████████| 157/157 [00:43<00:00,  3.57it/s]\n",
      "Epoch 19/100 Validation: 100%|██████████| 32/32 [00:04<00:00,  7.82it/s]\n"
     ]
    },
    {
     "name": "stdout",
     "output_type": "stream",
     "text": [
      "Epoch [19/100], Train Loss: 24.6178, Val Loss: 28.0479\n"
     ]
    },
    {
     "name": "stderr",
     "output_type": "stream",
     "text": [
      "Epoch 20/100 Training: 100%|██████████| 157/157 [00:43<00:00,  3.58it/s]\n",
      "Epoch 20/100 Validation: 100%|██████████| 32/32 [00:04<00:00,  7.61it/s]\n"
     ]
    },
    {
     "name": "stdout",
     "output_type": "stream",
     "text": [
      "Epoch [20/100], Train Loss: 24.3109, Val Loss: 27.8857\n"
     ]
    },
    {
     "name": "stderr",
     "output_type": "stream",
     "text": [
      "Epoch 21/100 Training: 100%|██████████| 157/157 [00:44<00:00,  3.51it/s]\n",
      "Epoch 21/100 Validation: 100%|██████████| 32/32 [00:04<00:00,  7.37it/s]\n"
     ]
    },
    {
     "name": "stdout",
     "output_type": "stream",
     "text": [
      "Epoch [21/100], Train Loss: 23.4269, Val Loss: 27.8046\n"
     ]
    },
    {
     "name": "stderr",
     "output_type": "stream",
     "text": [
      "Epoch 22/100 Training:  24%|██▍       | 38/157 [00:10<00:33,  3.54it/s]"
     ]
    }
   ],
   "source": [
    "import random\n",
    "from pathlib import Path\n",
    "from dataset import GraspDataset\n",
    "from model import GQEstimator\n",
    "import matplotlib.pyplot as plt\n",
    "from tqdm import tqdm\n",
    "from torch.utils.data import DataLoader, Subset\n",
    "import torch\n",
    "\n",
    "# --- Configuration ---\n",
    "LEARNING_RATE = 1e-3\n",
    "EPOCHS = 100\n",
    "VAL_SPLIT = 0.2\n",
    "BASE_CHANNELS = 4\n",
    "FC_DIMS = [32, 8]\n",
    "BATCH_SIZE = 32\n",
    "NUM_WORKERS = 1\n",
    "\n",
    "# --- Device Setup ---\n",
    "device = torch.device('cuda' if torch.cuda.is_available() else 'cpu')\n",
    "print(f\"Using device: {device}\")\n",
    "\n",
    "# --- Dataset and Dataloaders ---\n",
    "data_path = Path('data/processed')\n",
    "dataset = GraspDataset(data_path)\n",
    "\n",
    "num_samples = len(dataset)\n",
    "train_size = int(num_samples * (1 - VAL_SPLIT))\n",
    "val_size = num_samples - train_size\n",
    "print(f\"Total scenes: {num_samples}, Train scenes: {train_size}, Val scenes: {val_size}\")\n",
    "\n",
    "indices = list(range(num_samples))\n",
    "random.seed(42)\n",
    "random.shuffle(indices)\n",
    "\n",
    "train_indices = indices[:5000]\n",
    "val_indices = indices[-1000:]\n",
    "\n",
    "train_set = Subset(dataset, train_indices)\n",
    "val_set = Subset(dataset, val_indices)\n",
    "print(f\"Train dataset size: {len(train_set)}, Validation dataset size: {len(val_set)}\")\n",
    "\n",
    "# The dataloader now yields your desired batches directly!\n",
    "# batch_size=None is important for iterable datasets that do their own batching.\n",
    "pin_memory = torch.cuda.is_available()\n",
    "train_loader = DataLoader(train_set, batch_size=BATCH_SIZE, num_workers=NUM_WORKERS, pin_memory=pin_memory, persistent_workers=True)\n",
    "val_loader = DataLoader(val_set, batch_size=BATCH_SIZE, num_workers=NUM_WORKERS, pin_memory=pin_memory, persistent_workers=True)\n",
    "\n",
    "# Check data distribution:\n",
    "print(\"\\n=== Data Distribution Analysis ===\")\n",
    "train_scores = []\n",
    "val_scores = []\n",
    "\n",
    "for i in range(len(train_set)):\n",
    "    train_scores.append(train_set[i]['score'].item())\n",
    "    \n",
    "for i in range(len(val_set)):\n",
    "    val_scores.append(val_set[i]['score'].item())\n",
    "\n",
    "train_scores = np.array(train_scores)\n",
    "val_scores = np.array(val_scores)\n",
    "\n",
    "print(f\"Train scores - Mean: {train_scores.mean():.3f}, Std: {train_scores.std():.3f}\")\n",
    "print(f\"Val scores   - Mean: {val_scores.mean():.3f}, Std: {val_scores.std():.3f}\")\n",
    "print(f\"Distribution difference: {abs(train_scores.mean() - val_scores.mean()):.3f}\")\n",
    "\n",
    "# --- Model, Optimizer, Loss ---\n",
    "model = GQEstimator(input_size=48, base_channels=BASE_CHANNELS, fc_dims=FC_DIMS).to(device)\n",
    "optimizer = torch.optim.Adam(model.parameters(), lr=LEARNING_RATE)\n",
    "criterion = torch.nn.MSELoss()\n",
    "\n",
    "# Learning rate scheduler\n",
    "scheduler = torch.optim.lr_scheduler.StepLR(optimizer, step_size=20, gamma=0.5)\n",
    "\n",
    "# --- Training Loop ---\n",
    "print(f\"\\nStarting training for {EPOCHS} epochs...\")\n",
    "for epoch in range(EPOCHS):\n",
    "    model.train()\n",
    "    total_train_loss = 0\n",
    "    num_steps = 0\n",
    "\n",
    "    for batch in tqdm(train_loader, desc=f\"Epoch {epoch+1}/{EPOCHS} Training\"):\n",
    "        optimizer.zero_grad()\n",
    "\n",
    "        # Move to device\n",
    "        sdf_batch = batch['sdf'].to(device)\n",
    "        grasp_batch = batch['grasp'].to(device)\n",
    "        score_batch = batch['score'].to(device)\n",
    "\n",
    "        # Get the actual batch size (handles variable batch sizes)\n",
    "        actual_batch_size = sdf_batch.size(0)\n",
    "\n",
    "        # 1. Encode SDF\n",
    "        sdf_features = model.encode_sdf(sdf_batch)\n",
    "\n",
    "        # 2. No need to expand - sdf_features is already (B, flattened_size)\n",
    "        # 3. Concatenate features\n",
    "        flattened_features = torch.cat([sdf_features, grasp_batch], dim=1)\n",
    "\n",
    "        # 4. Predict grasp quality and compute loss\n",
    "        pred_quality = model(flattened_features)\n",
    "        loss = criterion(pred_quality, score_batch)\n",
    "        loss.backward()\n",
    "        optimizer.step()\n",
    "\n",
    "        total_train_loss += loss.item() * actual_batch_size\n",
    "        num_steps += actual_batch_size\n",
    "\n",
    "    scheduler.step()\n",
    "\n",
    "    avg_train_loss = total_train_loss / num_steps\n",
    "\n",
    "    # --- Validation Loop ---\n",
    "    model.eval()\n",
    "    total_val_loss = 0\n",
    "    num_steps = 0\n",
    "    with torch.no_grad():\n",
    "        for batch in tqdm(val_loader, desc=f\"Epoch {epoch+1}/{EPOCHS} Validation\"):\n",
    "            sdf_batch = batch['sdf'].to(device)\n",
    "            grasp_batch = batch['grasp'].to(device)\n",
    "            score_batch = batch['score'].to(device)\n",
    "\n",
    "            # Get the actual batch size (handles variable batch sizes)\n",
    "            actual_batch_size = sdf_batch.size(0)\n",
    "\n",
    "            # 1. Encode SDF\n",
    "            sdf_features = model.encode_sdf(sdf_batch)\n",
    "\n",
    "            # 2. No need to expand - sdf_features is already (B, flattened_size)\n",
    "            # 3. Concatenate features\n",
    "            flattened_features = torch.cat([sdf_features, grasp_batch], dim=1)\n",
    "\n",
    "            # 4. Predict grasp quality and compute loss\n",
    "            pred_quality = model(flattened_features)\n",
    "            loss = criterion(pred_quality, score_batch)\n",
    "\n",
    "            total_val_loss += loss.item() * actual_batch_size\n",
    "            num_steps += actual_batch_size\n",
    "\n",
    "    avg_val_loss = total_val_loss / num_steps\n",
    "    print(f'Epoch [{epoch+1}/{EPOCHS}], Train Loss: {avg_train_loss:.4f}, Val Loss: {avg_val_loss:.4f}')\n",
    "\n",
    "# --- Save Model ---\n",
    "model_path = \"model.pth\"\n",
    "torch.save(model.state_dict(), model_path)\n",
    "print(f\"Model saved successfully to {model_path}\")"
   ]
  },
  {
   "cell_type": "code",
   "execution_count": null,
   "metadata": {},
   "outputs": [],
   "source": []
  }
 ],
 "metadata": {
  "kernelspec": {
   "display_name": "adlr",
   "language": "python",
   "name": "python3"
  },
  "language_info": {
   "codemirror_mode": {
    "name": "ipython",
    "version": 3
   },
   "file_extension": ".py",
   "mimetype": "text/x-python",
   "name": "python",
   "nbconvert_exporter": "python",
   "pygments_lexer": "ipython3",
   "version": "3.10.13"
  }
 },
 "nbformat": 4,
 "nbformat_minor": 2
}
