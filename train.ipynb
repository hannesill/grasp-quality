{
 "cells": [
  {
   "cell_type": "code",
   "execution_count": 2,
   "metadata": {},
   "outputs": [
    {
     "name": "stdout",
     "output_type": "stream",
     "text": [
      "Sample contains the following keys:\n",
      "- sdf\n",
      "- grasps\n",
      "- scores\n",
      "\n",
      "Tensor shapes and types:\n",
      "sdf:\n",
      "  Shape: torch.Size([48, 48, 48])\n",
      "  Type: torch.float32\n",
      "  Device: cpu\n",
      "\n",
      "grasps:\n",
      "  Shape: torch.Size([480, 7])\n",
      "  Type: torch.float64\n",
      "  Device: cpu\n",
      "\n",
      "scores:\n",
      "  Shape: torch.Size([480])\n",
      "  Type: torch.float64\n",
      "  Device: cpu\n",
      "\n",
      "\n",
      "Basic statistics:\n",
      "sdf:\n",
      "  Min: -0.7169\n",
      "  Max: 1.4683\n",
      "  Mean: 0.6416\n",
      "  Std: 0.2782\n",
      "\n",
      "grasps:\n",
      "  Min: -0.5236\n",
      "  Max: 1.8326\n",
      "  Mean: 0.1521\n",
      "  Std: 0.4945\n",
      "\n",
      "scores:\n",
      "  Min: -1.5000\n",
      "  Max: 8.6819\n",
      "  Mean: 1.6106\n",
      "  Std: 2.8319\n",
      "\n"
     ]
    }
   ],
   "source": [
    "import torch\n",
    "from pathlib import Path\n",
    "from dataset import GraspDataset\n",
    "\n",
    "# Create dataset\n",
    "data_path = Path('data/processed')\n",
    "dataset = GraspDataset(data_path)\n",
    "\n",
    "# Get a single sample\n",
    "sample = dataset[0]\n",
    "\n",
    "# Print available keys\n",
    "print(\"Sample contains the following keys:\")\n",
    "for key in sample.keys():\n",
    "    print(f\"- {key}\")\n",
    "\n",
    "# Print tensor shapes and data types\n",
    "print(\"\\nTensor shapes and types:\")\n",
    "for key, tensor in sample.items():\n",
    "    print(f\"{key}:\")\n",
    "    print(f\"  Shape: {tensor.shape}\")\n",
    "    print(f\"  Type: {tensor.dtype}\")\n",
    "    print(f\"  Device: {tensor.device}\")\n",
    "    if tensor.numel() < 10:  # Only print full tensor if it's small\n",
    "        print(f\"  Values: {tensor}\")\n",
    "    print()\n",
    "\n",
    "# Basic statistics for numerical tensors\n",
    "print(\"\\nBasic statistics:\")\n",
    "for key, tensor in sample.items():\n",
    "    if torch.is_floating_point(tensor):\n",
    "        print(f\"{key}:\")\n",
    "        print(f\"  Min: {tensor.min().item():.4f}\")\n",
    "        print(f\"  Max: {tensor.max().item():.4f}\")\n",
    "        print(f\"  Mean: {tensor.mean().item():.4f}\")\n",
    "        print(f\"  Std: {tensor.std().item():.4f}\")\n",
    "        print()\n"
   ]
  },
  {
   "cell_type": "code",
   "execution_count": 6,
   "metadata": {},
   "outputs": [
    {
     "name": "stdout",
     "output_type": "stream",
     "text": [
      "Using device: cpu\n",
      "Using a subset of 10 samples for this test run.\n",
      "Subset samples: 10, Calculated train size: 8, Calculated val size: 2\n",
      "Final split for random_split: train_size=8, val_size=2\n",
      "Actual training set size: 8\n",
      "Actual validation set size: 2\n",
      "\n",
      "Starting quick training for 10 epochs...\n"
     ]
    },
    {
     "name": "stderr",
     "output_type": "stream",
     "text": [
      "                                                                    \r"
     ]
    },
    {
     "name": "stdout",
     "output_type": "stream",
     "text": [
      "Epoch [1/10], Train Loss: 53.0568, Val Loss: 153.9784\n"
     ]
    },
    {
     "name": "stderr",
     "output_type": "stream",
     "text": [
      "                                                                    \r"
     ]
    },
    {
     "name": "stdout",
     "output_type": "stream",
     "text": [
      "Epoch [2/10], Train Loss: 79.7928, Val Loss: 145.2111\n"
     ]
    },
    {
     "name": "stderr",
     "output_type": "stream",
     "text": [
      "                                                                    \r"
     ]
    },
    {
     "name": "stdout",
     "output_type": "stream",
     "text": [
      "Epoch [3/10], Train Loss: 61.6186, Val Loss: 148.4933\n"
     ]
    },
    {
     "name": "stderr",
     "output_type": "stream",
     "text": [
      "                                                                    \r"
     ]
    },
    {
     "name": "stdout",
     "output_type": "stream",
     "text": [
      "Epoch [4/10], Train Loss: 57.6014, Val Loss: 126.0907\n"
     ]
    },
    {
     "name": "stderr",
     "output_type": "stream",
     "text": [
      "                                                                    \r"
     ]
    },
    {
     "name": "stdout",
     "output_type": "stream",
     "text": [
      "Epoch [5/10], Train Loss: 51.0146, Val Loss: 83.6968\n"
     ]
    },
    {
     "name": "stderr",
     "output_type": "stream",
     "text": [
      "                                                                    \r"
     ]
    },
    {
     "name": "stdout",
     "output_type": "stream",
     "text": [
      "Epoch [6/10], Train Loss: 60.8931, Val Loss: 140.3089\n"
     ]
    },
    {
     "name": "stderr",
     "output_type": "stream",
     "text": [
      "                                                                    \r"
     ]
    },
    {
     "name": "stdout",
     "output_type": "stream",
     "text": [
      "Epoch [7/10], Train Loss: 55.0230, Val Loss: 124.9726\n"
     ]
    },
    {
     "name": "stderr",
     "output_type": "stream",
     "text": [
      "                                                                    \r"
     ]
    },
    {
     "name": "stdout",
     "output_type": "stream",
     "text": [
      "Epoch [8/10], Train Loss: 39.1324, Val Loss: 81.9589\n"
     ]
    },
    {
     "name": "stderr",
     "output_type": "stream",
     "text": [
      "                                                                    \r"
     ]
    },
    {
     "name": "stdout",
     "output_type": "stream",
     "text": [
      "Epoch [9/10], Train Loss: 57.6932, Val Loss: 125.8515\n"
     ]
    },
    {
     "name": "stderr",
     "output_type": "stream",
     "text": [
      "                                                                     "
     ]
    },
    {
     "name": "stdout",
     "output_type": "stream",
     "text": [
      "Epoch [10/10], Train Loss: 46.1521, Val Loss: 109.8738\n"
     ]
    },
    {
     "name": "stderr",
     "output_type": "stream",
     "text": [
      "\r"
     ]
    },
    {
     "data": {
      "image/png": "[encoded data removed]",
      "text/plain": [
       "<Figure size 1000x500 with 1 Axes>"
      ]
     },
     "metadata": {},
     "output_type": "display_data"
    }
   ],
   "source": [
    "import torch\n",
    "from pathlib import Path\n",
    "from dataset import GraspDataset\n",
    "from torch.utils.data import DataLoader, random_split, Subset\n",
    "from model import GQEstimator\n",
    "import matplotlib.pyplot as plt\n",
    "from tqdm import tqdm\n",
    "import math\n",
    "\n",
    "# --- Parameters for Quick Test ---\n",
    "NUM_TOTAL_SAMPLES_TO_USE = 10  # Use only 5 samples in total from the dataset\n",
    "NUM_EPOCHS_QUICK_TEST = 10     # Run for only 3 epochs\n",
    "# --- End Parameters for Quick Test ---\n",
    "\n",
    "# Initialize model and move to GPU if available\n",
    "device = torch.device('cuda' if torch.cuda.is_available() else 'cpu')\n",
    "print(f\"Using device: {device}\")\n",
    "\n",
    "model = GQEstimator().to(device)\n",
    "\n",
    "# Create dataset\n",
    "data_path = Path('data/processed')\n",
    "try:\n",
    "    full_dataset_obj = GraspDataset(data_path) # Load the full dataset object first\n",
    "    \n",
    "    # --- Use a subset for quick testing ---\n",
    "    if len(full_dataset_obj) < NUM_TOTAL_SAMPLES_TO_USE:\n",
    "        print(f\"Warning: Full dataset has {len(full_dataset_obj)} samples, which is less than NUM_TOTAL_SAMPLES_TO_USE ({NUM_TOTAL_SAMPLES_TO_USE}). Using all available samples.\")\n",
    "        subset_indices = list(range(len(full_dataset_obj)))\n",
    "    else:\n",
    "        subset_indices = list(range(NUM_TOTAL_SAMPLES_TO_USE))\n",
    "    \n",
    "    active_dataset = Subset(full_dataset_obj, subset_indices)\n",
    "    print(f\"Using a subset of {len(active_dataset)} samples for this test run.\")\n",
    "    # --- End subset usage ---\n",
    "\n",
    "except Exception as e:\n",
    "    print(f\"Error loading dataset from {data_path}: {e}\")\n",
    "    raise\n",
    "\n",
    "# Split dataset into training and validation\n",
    "val_split = 0.2\n",
    "num_samples = len(active_dataset) # Now using the length of the subset\n",
    "\n",
    "train_size = int(num_samples * (1 - val_split))\n",
    "val_size = num_samples - train_size\n",
    "\n",
    "print(f\"Subset samples: {num_samples}, Calculated train size: {train_size}, Calculated val size: {val_size}\")\n",
    "\n",
    "batch_size = 1\n",
    "\n",
    "train_dataset, val_dataset = random_split(active_dataset, [train_size, val_size], generator=torch.Generator().manual_seed(42))\n",
    "\n",
    "train_dataloader = DataLoader(train_dataset, batch_size=batch_size, shuffle=True, num_workers=0, pin_memory=True if device.type != 'cpu' else False) # num_workers=0 for small N\n",
    "val_dataloader = DataLoader(val_dataset, batch_size=batch_size, shuffle=False, num_workers=0, pin_memory=True if device.type != 'cpu' else False)\n",
    "\n",
    "optimizer = torch.optim.Adam(model.parameters(), lr=0.001)\n",
    "criterion = torch.nn.MSELoss()\n",
    "# Use NUM_EPOCHS_QUICK_TEST\n",
    "num_epochs = NUM_EPOCHS_QUICK_TEST \n",
    "train_losses = []\n",
    "val_losses = []\n",
    "\n",
    "print(f\"\\nStarting quick training for {num_epochs} epochs...\")\n",
    "for epoch in range(num_epochs):\n",
    "    model.train()\n",
    "    epoch_train_loss = 0.0\n",
    "    num_train_batches_processed = 0\n",
    "\n",
    "    for batch_data in tqdm(train_dataloader, desc=f\"Epoch {epoch+1}/{num_epochs} Training\", leave=False):\n",
    "        # ... (rest of your training loop logic for a batch) ...\n",
    "        sdf = batch_data['sdf'].float().to(device)\n",
    "        hand_pose_batch = batch_data['grasps'].float().to(device)\n",
    "        scores_batch = batch_data['scores'].float().to(device)\n",
    "\n",
    "        num_grasps_in_sample = hand_pose_batch.shape[1]\n",
    "        if num_grasps_in_sample == 0: continue\n",
    "\n",
    "        batch_sample_train_loss = 0.0\n",
    "        optimizer.zero_grad()\n",
    "        for i in range(num_grasps_in_sample): # Consider limiting i for extreme speed up, e.g. range(min(num_grasps_in_sample, 5))\n",
    "            current_hand_pose = hand_pose_batch[:, i, :]\n",
    "            current_score = scores_batch[:, i].unsqueeze(1)\n",
    "            sdf_with_channel = sdf.unsqueeze(1)\n",
    "            \n",
    "            pred_quality = model(sdf_with_channel, current_hand_pose)\n",
    "            loss = criterion(pred_quality, current_score)\n",
    "            loss.backward()\n",
    "            batch_sample_train_loss += loss.item()\n",
    "        \n",
    "        optimizer.step()\n",
    "        epoch_train_loss += (batch_sample_train_loss / num_grasps_in_sample)\n",
    "        num_train_batches_processed +=1\n",
    "\n",
    "    if num_train_batches_processed > 0:\n",
    "        avg_epoch_train_loss = epoch_train_loss / num_train_batches_processed\n",
    "    else: \n",
    "        avg_epoch_train_loss = float('nan')\n",
    "    train_losses.append(avg_epoch_train_loss)\n",
    "\n",
    "    avg_epoch_val_loss = float('nan')\n",
    "    if val_dataloader:\n",
    "        model.eval()\n",
    "        epoch_val_loss = 0.0\n",
    "        num_val_batches_processed = 0\n",
    "        with torch.no_grad():\n",
    "            for batch_data in tqdm(val_dataloader, desc=f\"Epoch {epoch+1}/{num_epochs} Validation\", leave=False):\n",
    "                # ... (rest of your validation loop logic for a batch) ...\n",
    "                sdf = batch_data['sdf'].float().to(device)\n",
    "                hand_pose_batch = batch_data['grasps'].float().to(device)\n",
    "                scores_batch = batch_data['scores'].float().to(device)\n",
    "\n",
    "                num_grasps_in_sample = hand_pose_batch.shape[1]\n",
    "                if num_grasps_in_sample == 0: continue\n",
    "\n",
    "                batch_sample_val_loss = 0.0\n",
    "                for i in range(num_grasps_in_sample): # Consider limiting i\n",
    "                    current_hand_pose = hand_pose_batch[:, i, :]\n",
    "                    current_score = scores_batch[:, i].unsqueeze(1)\n",
    "                    sdf_with_channel = sdf.unsqueeze(1)\n",
    "                    \n",
    "                    pred_quality = model(sdf_with_channel, current_hand_pose)\n",
    "                    loss_val = criterion(pred_quality, current_score)\n",
    "                    batch_sample_val_loss += loss_val.item()\n",
    "                \n",
    "                epoch_val_loss += (batch_sample_val_loss / num_grasps_in_sample)\n",
    "                num_val_batches_processed +=1\n",
    "        \n",
    "        if num_val_batches_processed > 0:\n",
    "            avg_epoch_val_loss = epoch_val_loss / num_val_batches_processed\n",
    "        val_losses.append(avg_epoch_val_loss)\n",
    "        print(f'Epoch [{epoch+1}/{num_epochs}], Train Loss: {avg_epoch_train_loss:.4f}, Val Loss: {avg_epoch_val_loss:.4f}')\n",
    "    else:\n",
    "        val_losses.append(avg_epoch_val_loss)\n",
    "        print(f'Epoch [{epoch+1}/{num_epochs}], Train Loss: {avg_epoch_train_loss:.4f} (No validation set)')\n",
    "\n",
    "# Plot loss curve\n",
    "plt.figure(figsize=(10, 5))\n",
    "plt.plot(train_losses, label='Training Loss')\n",
    "plot_val_epochs = [i for i, vl in enumerate(val_losses) if not (isinstance(vl, float) and math.isnan(vl))]\n",
    "plot_val_losses_values = [vl for vl in val_losses if not (isinstance(vl, float) and math.isnan(vl))]\n",
    "if plot_val_losses_values:\n",
    "   plt.plot(plot_val_epochs, plot_val_losses_values, label='Validation Loss')\n",
    "plt.title(f'Quick Test: Training and Validation Loss ({NUM_EPOCHS_QUICK_TEST} Epochs, {len(active_dataset)} samples)')\n",
    "plt.xlabel('Epoch')\n",
    "plt.ylabel('Loss')\n",
    "plt.legend()\n",
    "plt.grid(True)\n",
    "plt.show()\n"
   ]
  },
  {
   "cell_type": "code",
   "execution_count": null,
   "metadata": {},
   "outputs": [],
   "source": []
  }
 ],
 "metadata": {
  "kernelspec": {
   "display_name": "adlr",
   "language": "python",
   "name": "python3"
  },
  "language_info": {
   "codemirror_mode": {
    "name": "ipython",
    "version": 3
   },
   "file_extension": ".py",
   "mimetype": "text/x-python",
   "name": "python",
   "nbconvert_exporter": "python",
   "pygments_lexer": "ipython3",
   "version": "3.10.13"
  }
 },
 "nbformat": 4,
 "nbformat_minor": 2
}
